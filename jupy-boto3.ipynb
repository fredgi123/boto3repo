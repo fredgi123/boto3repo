{
 "cells": [
  {
   "cell_type": "code",
   "execution_count": 1,
   "metadata": {
    "collapsed": true,
    "pycharm": {
     "name": "#%%\n"
    }
   },
   "outputs": [],
   "source": [
    "import boto3"
   ]
  },
  {
   "cell_type": "code",
   "execution_count": 2,
   "outputs": [
    {
     "name": "stdout",
     "output_type": "stream",
     "text": [
      "jupy-boto3.ipynb\n"
     ]
    }
   ],
   "source": [
    "!ls"
   ],
   "metadata": {
    "collapsed": false,
    "pycharm": {
     "name": "#%%\n"
    }
   }
  },
  {
   "cell_type": "code",
   "execution_count": 4,
   "outputs": [],
   "source": [
    "client = boto3.client('s3')"
   ],
   "metadata": {
    "collapsed": false,
    "pycharm": {
     "name": "#%%\n"
    }
   }
  },
  {
   "cell_type": "code",
   "execution_count": 7,
   "outputs": [],
   "source": [
    "response = client.list_objects(Bucket= 'bucket-essai')"
   ],
   "metadata": {
    "collapsed": false,
    "pycharm": {
     "name": "#%%\n"
    }
   }
  },
  {
   "cell_type": "code",
   "execution_count": 8,
   "outputs": [
    {
     "data": {
      "text/plain": "{'ResponseMetadata': {'RequestId': 'E7TBQ2WY9TX9W3XG',\n  'HostId': 'GSEe3VSGB+fuU4jWWdMhYh7xbB4eO6fBgVFW+KRw6ozXljPmD1yMtCWShZvazMCdsxzDrUlal1Vezoe3OJksfA==',\n  'HTTPStatusCode': 200,\n  'HTTPHeaders': {'x-amz-id-2': 'GSEe3VSGB+fuU4jWWdMhYh7xbB4eO6fBgVFW+KRw6ozXljPmD1yMtCWShZvazMCdsxzDrUlal1Vezoe3OJksfA==',\n   'x-amz-request-id': 'E7TBQ2WY9TX9W3XG',\n   'date': 'Wed, 03 Aug 2022 23:24:13 GMT',\n   'x-amz-bucket-region': 'us-east-1',\n   'content-type': 'application/xml',\n   'transfer-encoding': 'chunked',\n   'server': 'AmazonS3'},\n  'RetryAttempts': 0},\n 'IsTruncated': False,\n 'Marker': '',\n 'Contents': [{'Key': 'images/IMG_3562.jpg',\n   'LastModified': datetime.datetime(2022, 7, 29, 19, 9, 26, tzinfo=tzutc()),\n   'ETag': '\"99dae6b19f5e832fbe0741014073ec36\"',\n   'Size': 63194,\n   'StorageClass': 'STANDARD',\n   'Owner': {'DisplayName': 'fredgigou1',\n    'ID': 'c7928b404638326bb5136e634f82ab86d0ff12b1d00e4b6c368efd8bab61f3eb'}},\n  {'Key': 'images/IMG_3563.jpg',\n   'LastModified': datetime.datetime(2022, 7, 29, 19, 9, 26, tzinfo=tzutc()),\n   'ETag': '\"ea28f7e5918924ad6a9a2125dd66b45c\"',\n   'Size': 65341,\n   'StorageClass': 'STANDARD',\n   'Owner': {'DisplayName': 'fredgigou1',\n    'ID': 'c7928b404638326bb5136e634f82ab86d0ff12b1d00e4b6c368efd8bab61f3eb'}},\n  {'Key': 'images/IMG_3564.jpg',\n   'LastModified': datetime.datetime(2022, 7, 29, 19, 9, 26, tzinfo=tzutc()),\n   'ETag': '\"1611d8cf310920d4429b3188220fc910\"',\n   'Size': 69842,\n   'StorageClass': 'STANDARD',\n   'Owner': {'DisplayName': 'fredgigou1',\n    'ID': 'c7928b404638326bb5136e634f82ab86d0ff12b1d00e4b6c368efd8bab61f3eb'}},\n  {'Key': 'images/IMG_3565.jpg',\n   'LastModified': datetime.datetime(2022, 7, 29, 19, 9, 26, tzinfo=tzutc()),\n   'ETag': '\"4898efc5ec33395fec0d2e4b2c72b368\"',\n   'Size': 90781,\n   'StorageClass': 'STANDARD',\n   'Owner': {'DisplayName': 'fredgigou1',\n    'ID': 'c7928b404638326bb5136e634f82ab86d0ff12b1d00e4b6c368efd8bab61f3eb'}},\n  {'Key': 'images/IMG_3566.jpg',\n   'LastModified': datetime.datetime(2022, 7, 29, 19, 9, 27, tzinfo=tzutc()),\n   'ETag': '\"79546e98a99158f30cec8f6cfccccdb4\"',\n   'Size': 75088,\n   'StorageClass': 'STANDARD',\n   'Owner': {'DisplayName': 'fredgigou1',\n    'ID': 'c7928b404638326bb5136e634f82ab86d0ff12b1d00e4b6c368efd8bab61f3eb'}},\n  {'Key': 'images/IMG_3567.jpg',\n   'LastModified': datetime.datetime(2022, 7, 29, 19, 9, 27, tzinfo=tzutc()),\n   'ETag': '\"a2978640d8b0f91d66a2bd194b3e2b81\"',\n   'Size': 62113,\n   'StorageClass': 'STANDARD',\n   'Owner': {'DisplayName': 'fredgigou1',\n    'ID': 'c7928b404638326bb5136e634f82ab86d0ff12b1d00e4b6c368efd8bab61f3eb'}},\n  {'Key': 'images/IMG_3568.jpg',\n   'LastModified': datetime.datetime(2022, 7, 29, 19, 9, 27, tzinfo=tzutc()),\n   'ETag': '\"3699472402d365d96d18b533d80630d0\"',\n   'Size': 68201,\n   'StorageClass': 'STANDARD',\n   'Owner': {'DisplayName': 'fredgigou1',\n    'ID': 'c7928b404638326bb5136e634f82ab86d0ff12b1d00e4b6c368efd8bab61f3eb'}},\n  {'Key': 'images/IMG_3569.jpg',\n   'LastModified': datetime.datetime(2022, 7, 29, 19, 9, 27, tzinfo=tzutc()),\n   'ETag': '\"7d06366cd9464ca0d372a24b37092508\"',\n   'Size': 68742,\n   'StorageClass': 'STANDARD',\n   'Owner': {'DisplayName': 'fredgigou1',\n    'ID': 'c7928b404638326bb5136e634f82ab86d0ff12b1d00e4b6c368efd8bab61f3eb'}},\n  {'Key': 'images/IMG_3570.jpg',\n   'LastModified': datetime.datetime(2022, 7, 29, 19, 9, 28, tzinfo=tzutc()),\n   'ETag': '\"e88e289ae4a289adcd036bb55d285aa8\"',\n   'Size': 56044,\n   'StorageClass': 'STANDARD',\n   'Owner': {'DisplayName': 'fredgigou1',\n    'ID': 'c7928b404638326bb5136e634f82ab86d0ff12b1d00e4b6c368efd8bab61f3eb'}},\n  {'Key': 'sample.txt',\n   'LastModified': datetime.datetime(2022, 8, 3, 0, 19, 1, tzinfo=tzutc()),\n   'ETag': '\"8da241afcb000040f7a7da648e44010e\"',\n   'Size': 15,\n   'StorageClass': 'STANDARD',\n   'Owner': {'DisplayName': 'fredgigou1',\n    'ID': 'c7928b404638326bb5136e634f82ab86d0ff12b1d00e4b6c368efd8bab61f3eb'}}],\n 'Name': 'bucket-essai',\n 'Prefix': '',\n 'MaxKeys': 1000,\n 'EncodingType': 'url'}"
     },
     "execution_count": 8,
     "metadata": {},
     "output_type": "execute_result"
    }
   ],
   "source": [
    "response"
   ],
   "metadata": {
    "collapsed": false,
    "pycharm": {
     "name": "#%%\n"
    }
   }
  },
  {
   "cell_type": "code",
   "execution_count": 9,
   "outputs": [
    {
     "name": "stdout",
     "output_type": "stream",
     "text": [
      "images/IMG_3562.jpg 2022-07-29 19:09:26+00:00\n",
      "images/IMG_3563.jpg 2022-07-29 19:09:26+00:00\n",
      "images/IMG_3564.jpg 2022-07-29 19:09:26+00:00\n",
      "images/IMG_3565.jpg 2022-07-29 19:09:26+00:00\n",
      "images/IMG_3566.jpg 2022-07-29 19:09:27+00:00\n",
      "images/IMG_3567.jpg 2022-07-29 19:09:27+00:00\n",
      "images/IMG_3568.jpg 2022-07-29 19:09:27+00:00\n",
      "images/IMG_3569.jpg 2022-07-29 19:09:27+00:00\n",
      "images/IMG_3570.jpg 2022-07-29 19:09:28+00:00\n",
      "sample.txt 2022-08-03 00:19:01+00:00\n"
     ]
    }
   ],
   "source": [
    "for content in response[\"Contents\"]:\n",
    "    obj_dict = client.get_object(Bucket =\"bucket-essai\", Key= content[\"Key\"])\n",
    "    print(content[\"Key\"], obj_dict[\"LastModified\"])"
   ],
   "metadata": {
    "collapsed": false,
    "pycharm": {
     "name": "#%%\n"
    }
   }
  },
  {
   "cell_type": "code",
   "execution_count": null,
   "outputs": [],
   "source": [],
   "metadata": {
    "collapsed": false,
    "pycharm": {
     "name": "#%%\n"
    }
   }
  }
 ],
 "metadata": {
  "kernelspec": {
   "display_name": "Python 3",
   "language": "python",
   "name": "python3"
  },
  "language_info": {
   "codemirror_mode": {
    "name": "ipython",
    "version": 2
   },
   "file_extension": ".py",
   "mimetype": "text/x-python",
   "name": "python",
   "nbconvert_exporter": "python",
   "pygments_lexer": "ipython2",
   "version": "2.7.6"
  }
 },
 "nbformat": 4,
 "nbformat_minor": 0
}